{
 "cells": [
  {
   "cell_type": "markdown",
   "metadata": {},
   "source": [
    "* [University Digital Conservancy - UDC](https://conservancy.umn.edu/) \n",
    "* [Data Repository of UM - DRUM](https://conservancy.umn.edu/handle/11299/166578) \n",
    "\n",
    "Both of the above use the Dspace platform. \n",
    "See [the DSpace 7 API documentation here](https://wiki.lyrasis.org/display/DSDOC7x/REST+API).\n",
    "#### Live API, when launched publicly\n",
    "- Direct access to the UMN Digital Conservancy's instance of the REST API will be available at: [https://conservancy.umn.edu/server/api](https://conservancy.umn.edu/server/api)\n",
    "- There is a helper tool called the [HAL browser](https://conservancy.umn.edu/server/) that shows what calls are available in a more human readable version.\n",
    "#### Development Test Instance\n",
    "- **Test Instance** of the REST API (must be connected to VPN Split Tunnel) is available at: [https://udc-prd.lib.umn.edu/server/api](https://udc-prd.lib.umn.edu/server/api)\n",
    "- **Test Instance** of helper tool called the [HAL browser](https://udc-prd.lib.umn.edu/server) that shows what calls are available in a more human readable version.\n",
    "\n",
    "Some sample exploratory code below.\n"
   ]
  },
  {
   "cell_type": "code",
   "execution_count": 1,
   "metadata": {},
   "outputs": [],
   "source": [
    "# about the requests library - https://requests.readthedocs.io/en/latest/user/quickstart/\n",
    "import requests\n",
    "# about the json library - https://docs.python.org/3/library/json.html\n",
    "import json"
   ]
  },
  {
   "cell_type": "code",
   "execution_count": 4,
   "metadata": {},
   "outputs": [
    {
     "name": "stdout",
     "output_type": "stream",
     "text": [
      "200\n",
      "API connection is successful\n"
     ]
    }
   ],
   "source": [
    "# old version: response = requests.get('https://conservancy.umn.edu/rest/test')\n",
    "# old version: response.content\n",
    "\n",
    "response = requests.get('https://udc-prd.lib.umn.edu/server/api')\n",
    "response_test = response.status_code\n",
    "print(response_test)\n",
    "\n",
    "if response_test == 200:\n",
    "    print('API connection is successful')\n",
    "else:\n",
    "    print('Error connecting to API, try a different url')\n"
   ]
  },
  {
   "cell_type": "code",
   "execution_count": 70,
   "metadata": {},
   "outputs": [],
   "source": [
    "base_url = 'https://conservancy.umn.edu'\n",
    "rest_url = 'https://conservancy.umn.edu/rest'"
   ]
  },
  {
   "cell_type": "code",
   "execution_count": 71,
   "metadata": {},
   "outputs": [
    {
     "data": {
      "text/plain": [
       "b'{\"id\":317,\"name\":\"Bee Lab\",\"handle\":\"11299/180876\",\"type\":\"community\",\"link\":\"/rest/communities/317\",\"expand\":[\"parentCommunity\",\"collections\",\"subCommunities\",\"logo\",\"all\"],\"logo\":null,\"parentCommunity\":null,\"copyrightText\":\"\",\"introductoryText\":\"\",\"shortDescription\":\"\",\"sidebarText\":\"\",\"countItems\":38,\"subcommunities\":[],\"collections\":[]}'"
      ]
     },
     "execution_count": 71,
     "metadata": {},
     "output_type": "execute_result"
    }
   ],
   "source": [
    "# Bee Lab collection: https://conservancy.umn.edu/handle/11299/180876\n",
    "# UDC interface says bee lab is a collection, but it's actually a \"community\"\n",
    "bee_lab = requests.get(rest_url + '/handle/11299/180876')\n",
    "bee_lab.content      "
   ]
  },
  {
   "cell_type": "code",
   "execution_count": 74,
   "metadata": {},
   "outputs": [
    {
     "name": "stdout",
     "output_type": "stream",
     "text": [
      "b'[{\"id\":1268,\"name\":\"Publications\",\"handle\":\"11299/180877\",\"type\":\"collection\",\"link\":\"/rest/collections/1268\",\"expand\":[\"parentCommunityList\",\"parentCommunity\",\"items\",\"license\",\"logo\",\"all\"],\"logo\":null,\"parentCommunity\":null,\"parentCommunityList\":[],\"items\":[],\"license\":null,\"copyrightText\":\"\",\"introductoryText\":\"\",\"shortDescription\":\"\",\"sidebarText\":\"\",\"numberItems\":38}]'\n"
     ]
    },
    {
     "data": {
      "text/plain": [
       "'/rest/collections/1268'"
      ]
     },
     "execution_count": 74,
     "metadata": {},
     "output_type": "execute_result"
    }
   ],
   "source": [
    "# snag the \"collection\" id and link for a community from the dictionary returned\n",
    "# use json.loads(variable.content.decode('utf-8')) to convert a byte object to json and then call an item ['link']\n",
    "link = json.loads(bee_lab.content.decode('utf-8'))['link']\n",
    "bee_lab_new = requests.get(base_url + str(link) + '/collections')\n",
    "#print(bee_lab_new.content)\n",
    "collection_link = json.loads(bee_lab_new.content.decode('utf-8'))[0]['link']\n",
    "#collection_link"
   ]
  },
  {
   "cell_type": "code",
   "execution_count": 78,
   "metadata": {},
   "outputs": [
    {
     "data": {
      "text/plain": [
       "b'[{\"id\":76619,\"name\":\"A comparison of honey bee-collected pollen from working agricultural lands using light microscopy and ITS metabarcoding\",\"handle\":\"11299/197612\",\"type\":\"item\",\"link\":\"/rest/items/76619\",\"expand\":[\"metadata\",\"parentCollection\",\"parentCollectionList\",\"parentCommunityList\",\"bitstreams\",\"all\"],\"lastModified\":\"2018-05-31 11:07:52.917\",\"parentCollection\":null,\"parentCollectionList\":null,\"parentCommunityList\":null,\"bitstreams\":null,\"archived\":\"true\",\"withdrawn\":\"false\"},{\"id\":76618,\"name\":\"Effects of neonicotinoid imidacloprid exposure on bumble bee (Hymenoptera: Apidae) queen survival and nest initiation\",\"handle\":\"11299/197611\",\"type\":\"item\",\"link\":\"/rest/items/76618\",\"expand\":[\"metadata\",\"parentCollection\",\"parentCollectionList\",\"parentCommunityList\",\"bitstreams\",\"all\"],\"lastModified\":\"2018-05-31 11:07:29.007\",\"parentCollection\":null,\"parentCollectionList\":null,\"parentCommunityList\":null,\"bitstreams\":null,\"archived\":\"true\",\"withdrawn\":\"false\"},{\"id\":76617,\"name\":\"Standard methods for Apis mellifera propolis research\",\"handle\":\"11299/197610\",\"type\":\"item\",\"link\":\"/rest/items/76617\",\"expand\":[\"metadata\",\"parentCollection\",\"parentCollectionList\",\"parentCommunityList\",\"bitstreams\",\"all\"],\"lastModified\":\"2018-05-31 11:07:16.018\",\"parentCollection\":null,\"parentCollectionList\":null,\"parentCommunityList\":null,\"bitstreams\":null,\"archived\":\"true\",\"withdrawn\":\"false\"},{\"id\":76616,\"name\":\"3-Acyl dihydroflavonols from poplar resins collected by honey bees are active against the bee pathogens Paenibacillus larvae and Ascosphaera apis\",\"handle\":\"11299/197609\",\"type\":\"item\",\"link\":\"/rest/items/76616\",\"expand\":[\"metadata\",\"parentCollection\",\"parentCollectionList\",\"parentCommunityList\",\"bitstreams\",\"all\"],\"lastModified\":\"2018-05-31 11:06:49.43\",\"parentCollection\":null,\"parentCollectionList\":null,\"parentCommunityList\":null,\"bitstreams\":null,\"archived\":\"true\",\"withdrawn\":\"false\"},{\"id\":76614,\"name\":\"Propolis counteracts some threats to honey bee health\",\"handle\":\"11299/197608\",\"type\":\"item\",\"link\":\"/rest/items/76614\",\"expand\":[\"metadata\",\"parentCollection\",\"parentCollectionList\",\"parentCommunityList\",\"bitstreams\",\"all\"],\"lastModified\":\"2018-05-31 12:13:29.142\",\"parentCollection\":null,\"parentCollectionList\":null,\"parentCommunityList\":null,\"bitstreams\":null,\"archived\":\"true\",\"withdrawn\":\"false\"},{\"id\":76613,\"name\":\"Propolis envelope in Apis mellifera colonies supports honey bees against the pathogen, Paenibacillus larvae\",\"handle\":\"11299/197607\",\"type\":\"item\",\"link\":\"/rest/items/76613\",\"expand\":[\"metadata\",\"parentCollection\",\"parentCollectionList\",\"parentCommunityList\",\"bitstreams\",\"all\"],\"lastModified\":\"2018-05-31 10:06:03.906\",\"parentCollection\":null,\"parentCollectionList\":null,\"parentCommunityList\":null,\"bitstreams\":null,\"archived\":\"true\",\"withdrawn\":\"false\"},{\"id\":76612,\"name\":\"Why does bee health matter? The science surrounding honey bee health concerns and what we can do about it\",\"handle\":\"11299/197606\",\"type\":\"item\",\"link\":\"/rest/items/76612\",\"expand\":[\"metadata\",\"parentCollection\",\"parentCollectionList\",\"parentCommunityList\",\"bitstreams\",\"all\"],\"lastModified\":\"2018-05-31 10:05:52.02\",\"parentCollection\":null,\"parentCollectionList\":null,\"parentCommunityList\":null,\"bitstreams\":null,\"archived\":\"true\",\"withdrawn\":\"false\"},{\"id\":59404,\"name\":\"Climatic limits of tropical African honeybees in the Americas\",\"handle\":\"11299/181237\",\"type\":\"item\",\"link\":\"/rest/items/59404\",\"expand\":[\"metadata\",\"parentCollection\",\"parentCollectionList\",\"parentCommunityList\",\"bitstreams\",\"all\"],\"lastModified\":\"2016-07-05 15:00:13.852\",\"parentCollection\":null,\"parentCollectionList\":null,\"parentCommunityList\":null,\"bitstreams\":null,\"archived\":\"true\",\"withdrawn\":\"false\"},{\"id\":59408,\"name\":\"Individual precocity, temporal persistence, and task-specialisation of hygienic bees from selected colonies of Apis mellifera.\",\"handle\":\"11299/181247\",\"type\":\"item\",\"link\":\"/rest/items/59408\",\"expand\":[\"metadata\",\"parentCollection\",\"parentCollectionList\",\"parentCommunityList\",\"bitstreams\",\"all\"],\"lastModified\":\"2016-07-05 17:00:11.964\",\"parentCollection\":null,\"parentCollectionList\":null,\"parentCommunityList\":null,\"bitstreams\":null,\"archived\":\"true\",\"withdrawn\":\"false\"},{\"id\":59409,\"name\":\"Physiological and behavioral changes in honey bees (Apis mellifera) induced by Nosema ceranae infection\",\"handle\":\"11299/181248\",\"type\":\"item\",\"link\":\"/rest/items/59409\",\"expand\":[\"metadata\",\"parentCollection\",\"parentCollectionList\",\"parentCommunityList\",\"bitstreams\",\"all\"],\"lastModified\":\"2016-07-05 17:00:22.134\",\"parentCollection\":null,\"parentCollectionList\":null,\"parentCommunityList\":null,\"bitstreams\":null,\"archived\":\"true\",\"withdrawn\":\"false\"},{\"id\":59410,\"name\":\"Hygienic behaviour of honey bees and its application for control of brood diseases and varroa:  Part II. Studies on hygienic behaviour since the Rothenbuhler era\",\"handle\":\"11299/181250\",\"type\":\"item\",\"link\":\"/rest/items/59410\",\"expand\":[\"metadata\",\"parentCollection\",\"parentCollectionList\",\"parentCommunityList\",\"bitstreams\",\"all\"],\"lastModified\":\"2016-07-06 10:01:39.929\",\"parentCollection\":null,\"parentCollectionList\":null,\"parentCommunityList\":null,\"bitstreams\":null,\"archived\":\"true\",\"withdrawn\":\"false\"},{\"id\":59412,\"name\":\"Hygienic behaviour of honey bees and its application for control of brood diseases and varroa:  Part I. Hygienic behaviour and resistance to American foulbrood\",\"handle\":\"11299/181251\",\"type\":\"item\",\"link\":\"/rest/items/59412\",\"expand\":[\"metadata\",\"parentCollection\",\"parentCollectionList\",\"parentCommunityList\",\"bitstreams\",\"all\"],\"lastModified\":\"2016-07-06 10:01:58.211\",\"parentCollection\":null,\"parentCollectionList\":null,\"parentCommunityList\":null,\"bitstreams\":null,\"archived\":\"true\",\"withdrawn\":\"false\"},{\"id\":59413,\"name\":\"Seasonal benefits of a natural propolis envelope to honey bee immunity and colony health\",\"handle\":\"11299/181253\",\"type\":\"item\",\"link\":\"/rest/items/59413\",\"expand\":[\"metadata\",\"parentCollection\",\"parentCollectionList\",\"parentCommunityList\",\"bitstreams\",\"all\"],\"lastModified\":\"2016-07-06 10:02:16.922\",\"parentCollection\":null,\"parentCollectionList\":null,\"parentCommunityList\":null,\"bitstreams\":null,\"archived\":\"true\",\"withdrawn\":\"false\"},{\"id\":59415,\"name\":\"A cell line resource derived from honey bee (Apis mellifera) embryonic tissues\",\"handle\":\"11299/181254\",\"type\":\"item\",\"link\":\"/rest/items/59415\",\"expand\":[\"metadata\",\"parentCollection\",\"parentCollectionList\",\"parentCommunityList\",\"bitstreams\",\"all\"],\"lastModified\":\"2016-07-06 11:00:44.807\",\"parentCollection\":null,\"parentCollectionList\":null,\"parentCommunityList\":null,\"bitstreams\":null,\"archived\":\"true\",\"withdrawn\":\"false\"},{\"id\":59416,\"name\":\"Israeli acute paralysis virus: epidemiology, pathogenesis and implications for honey bee health\",\"handle\":\"11299/181255\",\"type\":\"item\",\"link\":\"/rest/items/59416\",\"expand\":[\"metadata\",\"parentCollection\",\"parentCollectionList\",\"parentCommunityList\",\"bitstreams\",\"all\"],\"lastModified\":\"2016-07-06 11:00:54.252\",\"parentCollection\":null,\"parentCollectionList\":null,\"parentCommunityList\":null,\"bitstreams\":null,\"archived\":\"true\",\"withdrawn\":\"false\"},{\"id\":59417,\"name\":\"Linking measures of colony and individual honey bee health to survival among apiaries exposed to varying agricultural land use\",\"handle\":\"11299/181256\",\"type\":\"item\",\"link\":\"/rest/items/59417\",\"expand\":[\"metadata\",\"parentCollection\",\"parentCollectionList\",\"parentCommunityList\",\"bitstreams\",\"all\"],\"lastModified\":\"2016-07-06 11:01:04.282\",\"parentCollection\":null,\"parentCollectionList\":null,\"parentCommunityList\":null,\"bitstreams\":null,\"archived\":\"true\",\"withdrawn\":\"false\"},{\"id\":59418,\"name\":\"Increased resin collection after parasite challenge: a case of self-medication in honey bees?\",\"handle\":\"11299/181258\",\"type\":\"item\",\"link\":\"/rest/items/59418\",\"expand\":[\"metadata\",\"parentCollection\",\"parentCollectionList\",\"parentCommunityList\",\"bitstreams\",\"all\"],\"lastModified\":\"2016-07-06 11:01:25.271\",\"parentCollection\":null,\"parentCollectionList\":null,\"parentCommunityList\":null,\"bitstreams\":null,\"archived\":\"true\",\"withdrawn\":\"false\"},{\"id\":59420,\"name\":\"Metabolomics reveals the origins of antimicrobial plant resins collected by honey bees\",\"handle\":\"11299/181260\",\"type\":\"item\",\"link\":\"/rest/items/59420\",\"expand\":[\"metadata\",\"parentCollection\",\"parentCollectionList\",\"parentCommunityList\",\"bitstreams\",\"all\"],\"lastModified\":\"2016-07-06 11:01:43.755\",\"parentCollection\":null,\"parentCollectionList\":null,\"parentCommunityList\":null,\"bitstreams\":null,\"archived\":\"true\",\"withdrawn\":\"false\"},{\"id\":60780,\"name\":\"Honey production by Africanized and European honey bees in Costa Rica\",\"handle\":\"11299/182445\",\"type\":\"item\",\"link\":\"/rest/items/60780\",\"expand\":[\"metadata\",\"parentCollection\",\"parentCollectionList\",\"parentCommunityList\",\"bitstreams\",\"all\"],\"lastModified\":\"2016-09-28 16:01:12.975\",\"parentCollection\":null,\"parentCollectionList\":null,\"parentCommunityList\":null,\"bitstreams\":null,\"archived\":\"true\",\"withdrawn\":\"false\"},{\"id\":60781,\"name\":\"Behavioral defenses of honey bees against Varroa jacobsoni Oud.\",\"handle\":\"11299/182446\",\"type\":\"item\",\"link\":\"/rest/items/60781\",\"expand\":[\"metadata\",\"parentCollection\",\"parentCollectionList\",\"parentCommunityList\",\"bitstreams\",\"all\"],\"lastModified\":\"2016-09-28 16:01:22.047\",\"parentCollection\":null,\"parentCollectionList\":null,\"parentCommunityList\":null,\"bitstreams\":null,\"archived\":\"true\",\"withdrawn\":\"false\"},{\"id\":60339,\"name\":\"Facultative expression of hygienic behaviour of honey bees in relation to disease resistance\",\"handle\":\"11299/182022\",\"type\":\"item\",\"link\":\"/rest/items/60339\",\"expand\":[\"metadata\",\"parentCollection\",\"parentCollectionList\",\"parentCommunityList\",\"bitstreams\",\"all\"],\"lastModified\":\"2016-09-01 10:00:40.14\",\"parentCollection\":null,\"parentCollectionList\":null,\"parentCommunityList\":null,\"bitstreams\":null,\"archived\":\"true\",\"withdrawn\":\"false\"},{\"id\":60340,\"name\":\"Seven suggestive quantitative trait loci influence hygienic behavior of honey bees\",\"handle\":\"11299/182023\",\"type\":\"item\",\"link\":\"/rest/items/60340\",\"expand\":[\"metadata\",\"parentCollection\",\"parentCollectionList\",\"parentCommunityList\",\"bitstreams\",\"all\"],\"lastModified\":\"2016-09-01 10:00:48.917\",\"parentCollection\":null,\"parentCollectionList\":null,\"parentCommunityList\":null,\"bitstreams\":null,\"archived\":\"true\",\"withdrawn\":\"false\"},{\"id\":60341,\"name\":\"Do measurements of worker cell size reliably distinguish Africanized from European honey bees (Apis mellifera L.)?\",\"handle\":\"11299/182026\",\"type\":\"item\",\"link\":\"/rest/items/60341\",\"expand\":[\"metadata\",\"parentCollection\",\"parentCollectionList\",\"parentCommunityList\",\"bitstreams\",\"all\"],\"lastModified\":\"2016-09-01 12:00:45.721\",\"parentCollection\":null,\"parentCollectionList\":null,\"parentCommunityList\":null,\"bitstreams\":null,\"archived\":\"true\",\"withdrawn\":\"false\"},{\"id\":60395,\"name\":\"Timing of Mating Flights of Neotropical African and European Honey Bee Queens and Drones (Hymenoptera: Apidae) in Eastern Venezuela\",\"handle\":\"11299/182075\",\"type\":\"item\",\"link\":\"/rest/items/60395\",\"expand\":[\"metadata\",\"parentCollection\",\"parentCollectionList\",\"parentCommunityList\",\"bitstreams\",\"all\"],\"lastModified\":\"2016-09-12 17:00:34.325\",\"parentCollection\":null,\"parentCollectionList\":null,\"parentCommunityList\":null,\"bitstreams\":null,\"archived\":\"true\",\"withdrawn\":\"false\"},{\"id\":60415,\"name\":\"A Sustainable Approach to Controlling Honey Bee Diseases and Varroa Mites\",\"handle\":\"11299/182082\",\"type\":\"item\",\"link\":\"/rest/items/60415\",\"expand\":[\"metadata\",\"parentCollection\",\"parentCollectionList\",\"parentCommunityList\",\"bitstreams\",\"all\"],\"lastModified\":\"2016-09-15 17:00:48.394\",\"parentCollection\":null,\"parentCollectionList\":null,\"parentCommunityList\":null,\"bitstreams\":null,\"archived\":\"true\",\"withdrawn\":\"false\"},{\"id\":60777,\"name\":\"The influence of temperature on cuticular color of honeybee (Apis mellifera L) queens\",\"handle\":\"11299/182443\",\"type\":\"item\",\"link\":\"/rest/items/60777\",\"expand\":[\"metadata\",\"parentCollection\",\"parentCollectionList\",\"parentCommunityList\",\"bitstreams\",\"all\"],\"lastModified\":\"2016-09-28 11:00:58.221\",\"parentCollection\":null,\"parentCollectionList\":null,\"parentCommunityList\":null,\"bitstreams\":null,\"archived\":\"true\",\"withdrawn\":\"false\"},{\"id\":60776,\"name\":\"Honey bee hygienic behavior and defense against Varroa jacobsoni\",\"handle\":\"11299/182442\",\"type\":\"item\",\"link\":\"/rest/items/60776\",\"expand\":[\"metadata\",\"parentCollection\",\"parentCollectionList\",\"parentCommunityList\",\"bitstreams\",\"all\"],\"lastModified\":\"2016-09-28 11:00:49.331\",\"parentCollection\":null,\"parentCollectionList\":null,\"parentCommunityList\":null,\"bitstreams\":null,\"archived\":\"true\",\"withdrawn\":\"false\"},{\"id\":60783,\"name\":\"Resistance to American foulbrood disease by honey bee colonies Apis mellifera bred for hygienic behavior\",\"handle\":\"11299/182448\",\"type\":\"item\",\"link\":\"/rest/items/60783\",\"expand\":[\"metadata\",\"parentCollection\",\"parentCollectionList\",\"parentCommunityList\",\"bitstreams\",\"all\"],\"lastModified\":\"2016-09-28 16:01:40.115\",\"parentCollection\":null,\"parentCollectionList\":null,\"parentCommunityList\":null,\"bitstreams\":null,\"archived\":\"true\",\"withdrawn\":\"false\"},{\"id\":60789,\"name\":\"The relationship between hygienic behavior and suppression of mite reproduction as honey bee (Apis mellifera) mechanisms of resistance to Varroa destructor\",\"handle\":\"11299/182454\",\"type\":\"item\",\"link\":\"/rest/items/60789\",\"expand\":[\"metadata\",\"parentCollection\",\"parentCollectionList\",\"parentCommunityList\",\"bitstreams\",\"all\"],\"lastModified\":\"2016-09-28 17:01:48.16\",\"parentCollection\":null,\"parentCollectionList\":null,\"parentCommunityList\":null,\"bitstreams\":null,\"archived\":\"true\",\"withdrawn\":\"false\"},{\"id\":60790,\"name\":\"Olfactory and behavioral response thresholds to odors of diseased brood differ between hygienic and non-hygienic honey bees (Apis mellifera L.)\",\"handle\":\"11299/182455\",\"type\":\"item\",\"link\":\"/rest/items/60790\",\"expand\":[\"metadata\",\"parentCollection\",\"parentCollectionList\",\"parentCommunityList\",\"bitstreams\",\"all\"],\"lastModified\":\"2016-09-28 17:01:57.104\",\"parentCollection\":null,\"parentCollectionList\":null,\"parentCommunityList\":null,\"bitstreams\":null,\"archived\":\"true\",\"withdrawn\":\"false\"},{\"id\":60782,\"name\":\"Performance of hygienic honey bee colonies in a commercial apiary\",\"handle\":\"11299/182447\",\"type\":\"item\",\"link\":\"/rest/items/60782\",\"expand\":[\"metadata\",\"parentCollection\",\"parentCollectionList\",\"parentCommunityList\",\"bitstreams\",\"all\"],\"lastModified\":\"2016-09-28 16:01:30.806\",\"parentCollection\":null,\"parentCollectionList\":null,\"parentCommunityList\":null,\"bitstreams\":null,\"archived\":\"true\",\"withdrawn\":\"false\"},{\"id\":60784,\"name\":\"A multifactorial study of the resistance of honeybees Apis mellifera to the mite Varroa destructor over one year in Mexico\",\"handle\":\"11299/182449\",\"type\":\"item\",\"link\":\"/rest/items/60784\",\"expand\":[\"metadata\",\"parentCollection\",\"parentCollectionList\",\"parentCommunityList\",\"bitstreams\",\"all\"],\"lastModified\":\"2016-09-28 16:01:48.979\",\"parentCollection\":null,\"parentCollectionList\":null,\"parentCommunityList\":null,\"bitstreams\":null,\"archived\":\"true\",\"withdrawn\":\"false\"},{\"id\":60785,\"name\":\"A national survey of managed honey bee 2013\\xe2\\x80\\x932014 annual colony losses in the USA\",\"handle\":\"11299/182450\",\"type\":\"item\",\"link\":\"/rest/items/60785\",\"expand\":[\"metadata\",\"parentCollection\",\"parentCollectionList\",\"parentCommunityList\",\"bitstreams\",\"all\"],\"lastModified\":\"2016-09-28 16:01:58.411\",\"parentCollection\":null,\"parentCollectionList\":null,\"parentCommunityList\":null,\"bitstreams\":null,\"archived\":\"true\",\"withdrawn\":\"false\"},{\"id\":60786,\"name\":\"Propolis and bee health: the natural history and significance of resin use by honey bees\",\"handle\":\"11299/182451\",\"type\":\"item\",\"link\":\"/rest/items/60786\",\"expand\":[\"metadata\",\"parentCollection\",\"parentCollectionList\",\"parentCommunityList\",\"bitstreams\",\"all\"],\"lastModified\":\"2016-09-28 16:02:07.652\",\"parentCollection\":null,\"parentCollectionList\":null,\"parentCommunityList\":null,\"bitstreams\":null,\"archived\":\"true\",\"withdrawn\":\"false\"},{\"id\":60787,\"name\":\"Hygienic behaviors of honey bees in response to brood experimentally pin-killed or infected with Ascosphaera apis\",\"handle\":\"11299/182452\",\"type\":\"item\",\"link\":\"/rest/items/60787\",\"expand\":[\"metadata\",\"parentCollection\",\"parentCollectionList\",\"parentCommunityList\",\"bitstreams\",\"all\"],\"lastModified\":\"2016-09-28 17:01:29.816\",\"parentCollection\":null,\"parentCollectionList\":null,\"parentCommunityList\":null,\"bitstreams\":null,\"archived\":\"true\",\"withdrawn\":\"false\"},{\"id\":60788,\"name\":\"Field trial of honey bee colonies bred for mechanisms of resistance against Varroa destructor\",\"handle\":\"11299/182453\",\"type\":\"item\",\"link\":\"/rest/items/60788\",\"expand\":[\"metadata\",\"parentCollection\",\"parentCollectionList\",\"parentCommunityList\",\"bitstreams\",\"all\"],\"lastModified\":\"2016-09-28 17:01:38.952\",\"parentCollection\":null,\"parentCollectionList\":null,\"parentCommunityList\":null,\"bitstreams\":null,\"archived\":\"true\",\"withdrawn\":\"false\"},{\"id\":61872,\"name\":\"Sub-lethal effects of dietary neonicotinoid insecticide exposure on honey bee queen fecundity and colony development\",\"handle\":\"11299/183475\",\"type\":\"item\",\"link\":\"/rest/items/61872\",\"expand\":[\"metadata\",\"parentCollection\",\"parentCollectionList\",\"parentCommunityList\",\"bitstreams\",\"all\"],\"lastModified\":\"2017-01-04 16:01:41.702\",\"parentCollection\":null,\"parentCollectionList\":null,\"parentCommunityList\":null,\"bitstreams\":null,\"archived\":\"true\",\"withdrawn\":\"false\"},{\"id\":61899,\"name\":\"Land use in the Northern Great Plains region of the U.S. influences the survival and productivity of honey bee colonies\",\"handle\":\"11299/183500\",\"type\":\"item\",\"link\":\"/rest/items/61899\",\"expand\":[\"metadata\",\"parentCollection\",\"parentCollectionList\",\"parentCommunityList\",\"bitstreams\",\"all\"],\"lastModified\":\"2017-12-28 11:18:12.782\",\"parentCollection\":null,\"parentCollectionList\":null,\"parentCommunityList\":null,\"bitstreams\":null,\"archived\":\"true\",\"withdrawn\":\"false\"}]'"
      ]
     },
     "execution_count": 78,
     "metadata": {},
     "output_type": "execute_result"
    }
   ],
   "source": [
    "# use a collection link (/rest/collections/1268/items) to get a list of all items\n",
    "bee_lab_items = requests.get(base_url + collection_link + '/items')\n",
    "bee_lab_items.content"
   ]
  },
  {
   "cell_type": "code",
   "execution_count": 86,
   "metadata": {},
   "outputs": [
    {
     "data": {
      "text/plain": [
       "{'id': 76619,\n",
       " 'name': 'A comparison of honey bee-collected pollen from working agricultural lands using light microscopy and ITS metabarcoding',\n",
       " 'handle': '11299/197612',\n",
       " 'type': 'item',\n",
       " 'link': '/rest/items/76619',\n",
       " 'expand': ['metadata',\n",
       "  'parentCollection',\n",
       "  'parentCollectionList',\n",
       "  'parentCommunityList',\n",
       "  'bitstreams',\n",
       "  'all'],\n",
       " 'lastModified': '2018-05-31 11:07:52.917',\n",
       " 'parentCollection': None,\n",
       " 'parentCollectionList': None,\n",
       " 'parentCommunityList': None,\n",
       " 'bitstreams': None,\n",
       " 'archived': 'true',\n",
       " 'withdrawn': 'false'}"
      ]
     },
     "execution_count": 86,
     "metadata": {},
     "output_type": "execute_result"
    }
   ],
   "source": [
    "# call a single item and convert to json\n",
    "bee_lab_item = requests.get(rest_url + '/handle/11299/197612')\n",
    "item_json = json.loads(bee_lab_item.content.decode('utf-8'))\n",
    "item_json"
   ]
  },
  {
   "cell_type": "code",
   "execution_count": 96,
   "metadata": {},
   "outputs": [
    {
     "data": {
      "text/plain": [
       "{'id': 63989,\n",
       " 'name': '16S Intestinal Microbiome Sequences of Rhesus Macaques Treated with Chronic Morphine for 92 Days, SIV for 21 Days, or in Combination (Morphine for 70 Days then SIV+Morphine for 21 Days)',\n",
       " 'handle': '11299/185533',\n",
       " 'type': 'item',\n",
       " 'link': '/rest/items/63989',\n",
       " 'expand': ['metadata',\n",
       "  'parentCollection',\n",
       "  'parentCollectionList',\n",
       "  'parentCommunityList',\n",
       "  'bitstreams',\n",
       "  'all'],\n",
       " 'lastModified': '2017-04-19 12:55:53.382',\n",
       " 'parentCollection': None,\n",
       " 'parentCollectionList': None,\n",
       " 'parentCommunityList': None,\n",
       " 'bitstreams': None,\n",
       " 'archived': 'true',\n",
       " 'withdrawn': 'false'}"
      ]
     },
     "execution_count": 96,
     "metadata": {},
     "output_type": "execute_result"
    }
   ],
   "source": [
    "udc_item = requests.get(rest_url + '/handle/11299/185533')\n",
    "udc_item_json = json.loads(udc_item.content.decode('utf-8'))\n",
    "udc_item_json"
   ]
  },
  {
   "cell_type": "markdown",
   "metadata": {},
   "source": [
    "## URL examples\n",
    "\n",
    "### Collections\n",
    "/handle/{collectionId} - Return a collection with the specified ID.\n",
    "\n",
    "* Bee Lab collection: https://conservancy.umn.edu/handle/11299/180876\n",
    "\n",
    "* UMN Twin Cities collection: https://conservancy.umn.edu/handle/11299/1\n",
    "\n",
    "* DRUM collection: https://conservancy.umn.edu/handle/11299/166578\n",
    "\n",
    "### Authors?\n",
    "* University of Minnesota Agricultuarl Experiment Station: https://conservancy.umn.edu/browse?type=author&value=University+of+Minnesota+Agricultural+Experiment+Station\n",
    "\n",
    "* Dale C Dahl: https://conservancy.umn.edu/browse?type=author&value=Dahl,%20Dale%20C.\n",
    "\n",
    "### Types?\n",
    "* Conference Papers: https://conservancy.umn.edu/browse?type=type&value=Conference+Paper\n",
    "\n",
    "### item records\n",
    "GET /items/{item id} - Return the specified item.\n",
    "* https://conservancy.umn.edu/handle/11299/136977\n",
    "\n",
    "### search results?\n",
    "* UDC search for school of journalism: https://conservancy.umn.edu/discover?scope=%2F&query=school+of+journalism&submit=\n",
    "* DRUM search for agriculture: https://conservancy.umn.edu/handle/11299/166578/discover?query=agriculture&submit=\n"
   ]
  },
  {
   "cell_type": "code",
   "execution_count": null,
   "metadata": {},
   "outputs": [],
   "source": []
  }
 ],
 "metadata": {
  "kernelspec": {
   "display_name": "Python 3 (ipykernel)",
   "language": "python",
   "name": "python3"
  },
  "language_info": {
   "codemirror_mode": {
    "name": "ipython",
    "version": 3
   },
   "file_extension": ".py",
   "mimetype": "text/x-python",
   "name": "python",
   "nbconvert_exporter": "python",
   "pygments_lexer": "ipython3",
   "version": "3.11.5"
  }
 },
 "nbformat": 4,
 "nbformat_minor": 2
}
